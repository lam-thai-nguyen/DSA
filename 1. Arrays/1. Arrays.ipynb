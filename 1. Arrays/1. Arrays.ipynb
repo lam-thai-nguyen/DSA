{
 "cells": [
  {
   "cell_type": "markdown",
   "metadata": {},
   "source": [
    "# DSA Arrays\n",
    "\n",
    "- An array is a data structure used to store multiple elements.\n",
    "- Arrays are used by many algorithms.\n",
    "- For example, an algorithm can be used to look through an array to find the lowest value"
   ]
  },
  {
   "cell_type": "markdown",
   "metadata": {},
   "source": [
    "## Algorithm: Find The Lowest Value in an Array\n",
    "\n",
    "- Before implementing the algorithm using an actual programming language, it is usually smart to first write the algorithm as a step-by-step procedure.\n",
    "- If you can write down the algorithm in something between human language and programming language, the algorithm will be easier to implement later because we avoid drowning in all the details of the programming language syntax."
   ]
  },
  {
   "cell_type": "markdown",
   "metadata": {},
   "source": [
    "pseudocode\n",
    "\n",
    "```pseudocode\n",
    "1. Create a variable 'minVal' and set it equal to the first value of the array.\n",
    "2. Go through every element in the array.\n",
    "3. If the current element has a lower value than 'minVal', update 'minVal' to this value.\n",
    "4. After looking at all the elements in the array, the 'minVal' variable now contains the lowest value.\n",
    "```\n",
    "\n",
    "or\n",
    "\n",
    "```pseudocode\n",
    "Variable 'minVal' = array[0]\n",
    "For each element in the array\n",
    "    If current element < minVal\n",
    "        minVal = current element\n",
    "```"
   ]
  },
  {
   "cell_type": "code",
   "execution_count": 1,
   "metadata": {},
   "outputs": [
    {
     "name": "stdout",
     "output_type": "stream",
     "text": [
      "Lowest value in a: 4\n"
     ]
    }
   ],
   "source": [
    "a = [7, 12, 9, 4, 11]\n",
    "\n",
    "minVal = a[0]\n",
    "for element in a:\n",
    "    if element < minVal:\n",
    "        minVal = element\n",
    "        \n",
    "print(f\"Lowest value in a: {minVal}\")"
   ]
  },
  {
   "cell_type": "markdown",
   "metadata": {},
   "source": [
    "## Algorithm Time Complexity\n",
    "\n",
    "- When exploring algorithms, we often look at how long time an algorithm takes to run relative to the size of the data set.\n",
    "- In the example above, the time the algorithm needs to run is proportional, or linear, to the size of the data set. This is because the algorithm must visit every array element one time to find the lowest value. The loop must run 5 times since there are 5 values in the array. And if the array had 1000 values, the loop would have to run 1000 times."
   ]
  }
 ],
 "metadata": {
  "kernelspec": {
   "display_name": "Python 3",
   "language": "python",
   "name": "python3"
  },
  "language_info": {
   "codemirror_mode": {
    "name": "ipython",
    "version": 3
   },
   "file_extension": ".py",
   "mimetype": "text/x-python",
   "name": "python",
   "nbconvert_exporter": "python",
   "pygments_lexer": "ipython3",
   "version": "3.11.5"
  }
 },
 "nbformat": 4,
 "nbformat_minor": 2
}
