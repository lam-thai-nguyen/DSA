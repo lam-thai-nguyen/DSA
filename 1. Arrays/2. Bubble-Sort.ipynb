{
 "cells": [
  {
   "cell_type": "markdown",
   "metadata": {},
   "source": [
    "# DSA Bubble Sort\n",
    "\n",
    "- Bubble Sort is an algorithm that sorts an array from the lowest value to the highest value.\n",
    "- The word 'Bubble' comes from how this algorithm works, it makes the highest values 'bubble up'.\n",
    "- How it works:\n",
    "    1. Go through the array, one value at a time.\n",
    "    1. For each value, compare the value with the next value.\n",
    "    1. If the value is higher than the next one, swap the values so that the highest value comes last.\n",
    "    1. Go through the array as many times as there are values in the array."
   ]
  },
  {
   "cell_type": "markdown",
   "metadata": {},
   "source": [
    "## Bubble Sort Implementation\n",
    "\n",
    "- To implement the Bubble Sort algorithm in a programming language, we need:\n",
    "    1. An array with values to sort.\n",
    "    1. An inner loop that goes through the array and swaps values if the first value is higher than the next value. This loop must loop through one less value each time it runs.\n",
    "    1. An outer loop that controls how many times the inner loop must run. For an array with n values, this outer loop must run n-1 times."
   ]
  },
  {
   "cell_type": "code",
   "execution_count": 1,
   "metadata": {},
   "outputs": [
    {
     "name": "stdout",
     "output_type": "stream",
     "text": [
      "Sorted array: [5, 11, 12, 22, 25, 34, 64, 90]\n"
     ]
    }
   ],
   "source": [
    "a = [64, 34, 25, 12, 22, 11, 90, 5]\n",
    "\n",
    "n = len(a)\n",
    "for i in range(n - 1):\n",
    "    for j in range(n - i - 1):\n",
    "        if a[j] > a[j + 1]:\n",
    "            a[j], a[j + 1] = a[j + 1], a[j]\n",
    "            \n",
    "print(f\"Sorted array: {a}\")"
   ]
  },
  {
   "cell_type": "markdown",
   "metadata": {},
   "source": [
    "## Explanation\n",
    "\n",
    "- For each iteration, the highest value in an array *bubbles up*, so we need `len(array) - 1` iterations to fully form a sorted array.\n",
    "- After each iteration, we should overlook the highest value because it has already been in the correct position -> We only perform swapping for `len(array) - i - 1` iterations where i denotes i<sup>th</sup> iteration."
   ]
  },
  {
   "cell_type": "markdown",
   "metadata": {},
   "source": [
    "## Bubble Sort Improvement\n",
    "\n",
    "- The Bubble Sort algorithm can be improved a little bit more.\n",
    "- Imagine that the array is almost sorted already, with the lowest numbers at the start (*e.g.*, `my_array = [7, 3, 9, 12, 11]`)\n",
    "- In this case, the array will be sorted after the first run, but the Bubble Sort algorithm will continue to run, without swapping elements, and that is not necessary.\n",
    "- If the algorithm goes through the array one time without swapping any values, the array must be finished sorted, and we can stop the algorithm, like this:"
   ]
  },
  {
   "cell_type": "code",
   "execution_count": 2,
   "metadata": {},
   "outputs": [
    {
     "name": "stdout",
     "output_type": "stream",
     "text": [
      "Sorted array: [3, 7, 9, 11, 12]\n"
     ]
    }
   ],
   "source": [
    "a = [7, 3, 9, 12, 11]\n",
    "\n",
    "n = len(a)\n",
    "for i in range(n - 1):\n",
    "    swapped = False\n",
    "    for j in range(n - i - 1):\n",
    "        if a[j] > a[j + 1]:\n",
    "            a[j], a[j + 1] = a[j + 1], a[j]  \n",
    "            swapped = True\n",
    "    if not swapped:\n",
    "        break\n",
    "    \n",
    "print(f\"Sorted array: {a}\")      "
   ]
  },
  {
   "cell_type": "markdown",
   "metadata": {},
   "source": [
    "## Bubble Sort Time Complexity\n",
    "\n",
    "- The Bubble Sort algorithm loops through every value in the array, comparing it to the value next to it. So for an array of ***n*** values, there must be ***n*** such comparisons in one loop.\n",
    "- And after one loop, the array is looped through again and again ***n*** times.\n",
    "- This means there are ***n ⋅ n*** comparisons done in total, so the time complexity for Bubble Sort is: ***O(n<sup>2</sup>)***"
   ]
  }
 ],
 "metadata": {
  "kernelspec": {
   "display_name": "Python 3",
   "language": "python",
   "name": "python3"
  },
  "language_info": {
   "codemirror_mode": {
    "name": "ipython",
    "version": 3
   },
   "file_extension": ".py",
   "mimetype": "text/x-python",
   "name": "python",
   "nbconvert_exporter": "python",
   "pygments_lexer": "ipython3",
   "version": "3.11.5"
  }
 },
 "nbformat": 4,
 "nbformat_minor": 2
}
